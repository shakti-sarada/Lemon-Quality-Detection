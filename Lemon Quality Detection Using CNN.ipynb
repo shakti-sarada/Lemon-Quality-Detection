{
 "cells": [
  {
   "cell_type": "code",
   "execution_count": 1,
   "id": "a4f8a8f8",
   "metadata": {
    "collapsed": true
   },
   "outputs": [
    {
     "name": "stdout",
     "output_type": "stream",
     "text": [
      "PermissionError: [WinError 5] Access is denied: 'E:\\\\Lemon Quality Detection\\\\lemonqualitydetection\\\\lemon\\\\Scripts\\\\python.exe'\n"
     ]
    }
   ],
   "source": [
    "!virtualenv lemon"
   ]
  },
  {
   "cell_type": "code",
   "execution_count": 1,
   "id": "fe226e3b",
   "metadata": {
    "collapsed": true
   },
   "outputs": [
    {
     "name": "stdout",
     "output_type": "stream",
     "text": [
      "Requirement already satisfied: ipykernel in e:\\lemon quality detection\\lemonqualitydetection\\lemon\\lib\\site-packages (6.29.5)\n",
      "Requirement already satisfied: comm>=0.1.1 in e:\\lemon quality detection\\lemonqualitydetection\\lemon\\lib\\site-packages (from ipykernel) (0.2.2)\n",
      "Requirement already satisfied: debugpy>=1.6.5 in e:\\lemon quality detection\\lemonqualitydetection\\lemon\\lib\\site-packages (from ipykernel) (1.8.5)\n",
      "Requirement already satisfied: ipython>=7.23.1 in e:\\lemon quality detection\\lemonqualitydetection\\lemon\\lib\\site-packages (from ipykernel) (8.18.1)\n",
      "Requirement already satisfied: jupyter-client>=6.1.12 in e:\\lemon quality detection\\lemonqualitydetection\\lemon\\lib\\site-packages (from ipykernel) (8.6.2)\n",
      "Requirement already satisfied: jupyter-core!=5.0.*,>=4.12 in e:\\lemon quality detection\\lemonqualitydetection\\lemon\\lib\\site-packages (from ipykernel) (5.7.2)\n",
      "Requirement already satisfied: matplotlib-inline>=0.1 in e:\\lemon quality detection\\lemonqualitydetection\\lemon\\lib\\site-packages (from ipykernel) (0.1.7)\n",
      "Requirement already satisfied: nest-asyncio in e:\\lemon quality detection\\lemonqualitydetection\\lemon\\lib\\site-packages (from ipykernel) (1.6.0)\n",
      "Requirement already satisfied: packaging in e:\\lemon quality detection\\lemonqualitydetection\\lemon\\lib\\site-packages (from ipykernel) (24.1)\n",
      "Requirement already satisfied: psutil in e:\\lemon quality detection\\lemonqualitydetection\\lemon\\lib\\site-packages (from ipykernel) (6.0.0)\n",
      "Requirement already satisfied: pyzmq>=24 in e:\\lemon quality detection\\lemonqualitydetection\\lemon\\lib\\site-packages (from ipykernel) (26.2.0)\n",
      "Requirement already satisfied: tornado>=6.1 in e:\\lemon quality detection\\lemonqualitydetection\\lemon\\lib\\site-packages (from ipykernel) (6.4.1)\n",
      "Requirement already satisfied: traitlets>=5.4.0 in e:\\lemon quality detection\\lemonqualitydetection\\lemon\\lib\\site-packages (from ipykernel) (5.14.3)\n",
      "Requirement already satisfied: decorator in e:\\lemon quality detection\\lemonqualitydetection\\lemon\\lib\\site-packages (from ipython>=7.23.1->ipykernel) (5.1.1)\n",
      "Requirement already satisfied: jedi>=0.16 in e:\\lemon quality detection\\lemonqualitydetection\\lemon\\lib\\site-packages (from ipython>=7.23.1->ipykernel) (0.19.1)\n",
      "Requirement already satisfied: prompt-toolkit<3.1.0,>=3.0.41 in e:\\lemon quality detection\\lemonqualitydetection\\lemon\\lib\\site-packages (from ipython>=7.23.1->ipykernel) (3.0.47)\n",
      "Requirement already satisfied: pygments>=2.4.0 in e:\\lemon quality detection\\lemonqualitydetection\\lemon\\lib\\site-packages (from ipython>=7.23.1->ipykernel) (2.18.0)\n",
      "Requirement already satisfied: stack-data in e:\\lemon quality detection\\lemonqualitydetection\\lemon\\lib\\site-packages (from ipython>=7.23.1->ipykernel) (0.6.3)\n",
      "Requirement already satisfied: typing-extensions in e:\\lemon quality detection\\lemonqualitydetection\\lemon\\lib\\site-packages (from ipython>=7.23.1->ipykernel) (4.12.2)\n",
      "Requirement already satisfied: exceptiongroup in e:\\lemon quality detection\\lemonqualitydetection\\lemon\\lib\\site-packages (from ipython>=7.23.1->ipykernel) (1.2.2)\n",
      "Requirement already satisfied: colorama in e:\\lemon quality detection\\lemonqualitydetection\\lemon\\lib\\site-packages (from ipython>=7.23.1->ipykernel) (0.4.6)\n",
      "Requirement already satisfied: importlib-metadata>=4.8.3 in e:\\lemon quality detection\\lemonqualitydetection\\lemon\\lib\\site-packages (from jupyter-client>=6.1.12->ipykernel) (8.4.0)\n",
      "Requirement already satisfied: python-dateutil>=2.8.2 in e:\\lemon quality detection\\lemonqualitydetection\\lemon\\lib\\site-packages (from jupyter-client>=6.1.12->ipykernel) (2.9.0.post0)\n",
      "Requirement already satisfied: platformdirs>=2.5 in e:\\lemon quality detection\\lemonqualitydetection\\lemon\\lib\\site-packages (from jupyter-core!=5.0.*,>=4.12->ipykernel) (4.2.2)\n",
      "Requirement already satisfied: pywin32>=300 in e:\\lemon quality detection\\lemonqualitydetection\\lemon\\lib\\site-packages (from jupyter-core!=5.0.*,>=4.12->ipykernel) (306)\n",
      "Requirement already satisfied: zipp>=0.5 in e:\\lemon quality detection\\lemonqualitydetection\\lemon\\lib\\site-packages (from importlib-metadata>=4.8.3->jupyter-client>=6.1.12->ipykernel) (3.20.0)\n",
      "Requirement already satisfied: parso<0.9.0,>=0.8.3 in e:\\lemon quality detection\\lemonqualitydetection\\lemon\\lib\\site-packages (from jedi>=0.16->ipython>=7.23.1->ipykernel) (0.8.4)\n",
      "Requirement already satisfied: wcwidth in e:\\lemon quality detection\\lemonqualitydetection\\lemon\\lib\\site-packages (from prompt-toolkit<3.1.0,>=3.0.41->ipython>=7.23.1->ipykernel) (0.2.13)\n",
      "Requirement already satisfied: six>=1.5 in e:\\lemon quality detection\\lemonqualitydetection\\lemon\\lib\\site-packages (from python-dateutil>=2.8.2->jupyter-client>=6.1.12->ipykernel) (1.16.0)\n",
      "Requirement already satisfied: executing>=1.2.0 in e:\\lemon quality detection\\lemonqualitydetection\\lemon\\lib\\site-packages (from stack-data->ipython>=7.23.1->ipykernel) (2.0.1)\n",
      "Requirement already satisfied: asttokens>=2.1.0 in e:\\lemon quality detection\\lemonqualitydetection\\lemon\\lib\\site-packages (from stack-data->ipython>=7.23.1->ipykernel) (2.4.1)\n",
      "Requirement already satisfied: pure-eval in e:\\lemon quality detection\\lemonqualitydetection\\lemon\\lib\\site-packages (from stack-data->ipython>=7.23.1->ipykernel) (0.2.3)\n"
     ]
    },
    {
     "name": "stderr",
     "output_type": "stream",
     "text": [
      "\n",
      "[notice] A new release of pip is available: 24.1.2 -> 24.2\n",
      "[notice] To update, run: E:\\Lemon Quality Detection\\lemonqualitydetection\\lemon\\Scripts\\python.exe -m pip install --upgrade pip\n"
     ]
    }
   ],
   "source": [
    "!lemon\\Scripts\\python -m pip install ipykernel"
   ]
  },
  {
   "cell_type": "code",
   "execution_count": 3,
   "id": "f7b60531",
   "metadata": {
    "collapsed": true
   },
   "outputs": [
    {
     "name": "stdout",
     "output_type": "stream",
     "text": [
      "Requirement already satisfied: Django in c:\\users\\dell\\anaconda3\\lib\\site-packages (from -r requirements.txt (line 1)) (4.2.15)\n",
      "Requirement already satisfied: Pillow in c:\\users\\dell\\anaconda3\\lib\\site-packages (from -r requirements.txt (line 2)) (9.0.1)\n",
      "Requirement already satisfied: tensorflow in c:\\users\\dell\\anaconda3\\lib\\site-packages (from -r requirements.txt (line 3)) (2.17.0)\n",
      "Requirement already satisfied: keras in c:\\users\\dell\\anaconda3\\lib\\site-packages (from -r requirements.txt (line 4)) (3.5.0)\n",
      "Requirement already satisfied: numpy in c:\\users\\dell\\anaconda3\\lib\\site-packages (from -r requirements.txt (line 5)) (1.26.4)\n",
      "Requirement already satisfied: scipy in c:\\users\\dell\\anaconda3\\lib\\site-packages (from -r requirements.txt (line 6)) (1.13.1)\n",
      "Requirement already satisfied: opencv-python in c:\\users\\dell\\anaconda3\\lib\\site-packages (from -r requirements.txt (line 7)) (4.10.0.84)\n",
      "Requirement already satisfied: scikit-image in c:\\users\\dell\\anaconda3\\lib\\site-packages (from -r requirements.txt (line 8)) (0.19.2)\n",
      "Requirement already satisfied: matplotlib in c:\\users\\dell\\anaconda3\\lib\\site-packages (from -r requirements.txt (line 9)) (3.5.1)\n",
      "Requirement already satisfied: scikit-learn in c:\\users\\dell\\anaconda3\\lib\\site-packages (from -r requirements.txt (line 10)) (1.5.1)\n",
      "Requirement already satisfied: scikeras in c:\\users\\dell\\anaconda3\\lib\\site-packages (from -r requirements.txt (line 11)) (0.13.0)\n",
      "Requirement already satisfied: tzdata in c:\\users\\dell\\anaconda3\\lib\\site-packages (from Django->-r requirements.txt (line 1)) (2024.1)\n",
      "Requirement already satisfied: asgiref<4,>=3.6.0 in c:\\users\\dell\\anaconda3\\lib\\site-packages (from Django->-r requirements.txt (line 1)) (3.8.1)\n",
      "Requirement already satisfied: sqlparse>=0.3.1 in c:\\users\\dell\\anaconda3\\lib\\site-packages (from Django->-r requirements.txt (line 1)) (0.5.1)\n",
      "Requirement already satisfied: tensorflow-intel==2.17.0 in c:\\users\\dell\\anaconda3\\lib\\site-packages (from tensorflow->-r requirements.txt (line 3)) (2.17.0)\n",
      "Requirement already satisfied: opt-einsum>=2.3.2 in c:\\users\\dell\\anaconda3\\lib\\site-packages (from tensorflow-intel==2.17.0->tensorflow->-r requirements.txt (line 3)) (3.3.0)\n",
      "Requirement already satisfied: ml-dtypes<0.5.0,>=0.3.1 in c:\\users\\dell\\anaconda3\\lib\\site-packages (from tensorflow-intel==2.17.0->tensorflow->-r requirements.txt (line 3)) (0.4.0)\n",
      "Requirement already satisfied: setuptools in c:\\users\\dell\\anaconda3\\lib\\site-packages (from tensorflow-intel==2.17.0->tensorflow->-r requirements.txt (line 3)) (61.2.0)\n",
      "Requirement already satisfied: astunparse>=1.6.0 in c:\\users\\dell\\anaconda3\\lib\\site-packages (from tensorflow-intel==2.17.0->tensorflow->-r requirements.txt (line 3)) (1.6.3)\n",
      "Requirement already satisfied: requests<3,>=2.21.0 in c:\\users\\dell\\anaconda3\\lib\\site-packages (from tensorflow-intel==2.17.0->tensorflow->-r requirements.txt (line 3)) (2.27.1)\n",
      "Requirement already satisfied: google-pasta>=0.1.1 in c:\\users\\dell\\anaconda3\\lib\\site-packages (from tensorflow-intel==2.17.0->tensorflow->-r requirements.txt (line 3)) (0.2.0)\n",
      "Requirement already satisfied: protobuf!=4.21.0,!=4.21.1,!=4.21.2,!=4.21.3,!=4.21.4,!=4.21.5,<5.0.0dev,>=3.20.3 in c:\\users\\dell\\anaconda3\\lib\\site-packages (from tensorflow-intel==2.17.0->tensorflow->-r requirements.txt (line 3)) (4.25.4)\n",
      "Requirement already satisfied: typing-extensions>=3.6.6 in c:\\users\\dell\\anaconda3\\lib\\site-packages (from tensorflow-intel==2.17.0->tensorflow->-r requirements.txt (line 3)) (4.12.2)\n",
      "Requirement already satisfied: tensorboard<2.18,>=2.17 in c:\\users\\dell\\anaconda3\\lib\\site-packages (from tensorflow-intel==2.17.0->tensorflow->-r requirements.txt (line 3)) (2.17.1)\n",
      "Requirement already satisfied: h5py>=3.10.0 in c:\\users\\dell\\anaconda3\\lib\\site-packages (from tensorflow-intel==2.17.0->tensorflow->-r requirements.txt (line 3)) (3.11.0)\n",
      "Requirement already satisfied: absl-py>=1.0.0 in c:\\users\\dell\\anaconda3\\lib\\site-packages (from tensorflow-intel==2.17.0->tensorflow->-r requirements.txt (line 3)) (2.1.0)\n",
      "Requirement already satisfied: flatbuffers>=24.3.25 in c:\\users\\dell\\anaconda3\\lib\\site-packages (from tensorflow-intel==2.17.0->tensorflow->-r requirements.txt (line 3)) (24.3.25)\n",
      "Requirement already satisfied: six>=1.12.0 in c:\\users\\dell\\anaconda3\\lib\\site-packages (from tensorflow-intel==2.17.0->tensorflow->-r requirements.txt (line 3)) (1.16.0)\n",
      "Requirement already satisfied: packaging in c:\\users\\dell\\anaconda3\\lib\\site-packages (from tensorflow-intel==2.17.0->tensorflow->-r requirements.txt (line 3)) (21.3)\n",
      "Requirement already satisfied: grpcio<2.0,>=1.24.3 in c:\\users\\dell\\anaconda3\\lib\\site-packages (from tensorflow-intel==2.17.0->tensorflow->-r requirements.txt (line 3)) (1.65.5)\n",
      "Requirement already satisfied: libclang>=13.0.0 in c:\\users\\dell\\anaconda3\\lib\\site-packages (from tensorflow-intel==2.17.0->tensorflow->-r requirements.txt (line 3)) (18.1.1)\n",
      "Requirement already satisfied: tensorflow-io-gcs-filesystem>=0.23.1 in c:\\users\\dell\\anaconda3\\lib\\site-packages (from tensorflow-intel==2.17.0->tensorflow->-r requirements.txt (line 3)) (0.31.0)\n",
      "Requirement already satisfied: wrapt>=1.11.0 in c:\\users\\dell\\anaconda3\\lib\\site-packages (from tensorflow-intel==2.17.0->tensorflow->-r requirements.txt (line 3)) (1.12.1)\n",
      "Requirement already satisfied: gast!=0.5.0,!=0.5.1,!=0.5.2,>=0.2.1 in c:\\users\\dell\\anaconda3\\lib\\site-packages (from tensorflow-intel==2.17.0->tensorflow->-r requirements.txt (line 3)) (0.6.0)\n",
      "Requirement already satisfied: termcolor>=1.1.0 in c:\\users\\dell\\anaconda3\\lib\\site-packages (from tensorflow-intel==2.17.0->tensorflow->-r requirements.txt (line 3)) (2.4.0)\n",
      "Requirement already satisfied: rich in c:\\users\\dell\\anaconda3\\lib\\site-packages (from keras->-r requirements.txt (line 4)) (13.7.1)\n",
      "Requirement already satisfied: optree in c:\\users\\dell\\anaconda3\\lib\\site-packages (from keras->-r requirements.txt (line 4)) (0.12.1)\n",
      "Requirement already satisfied: namex in c:\\users\\dell\\anaconda3\\lib\\site-packages (from keras->-r requirements.txt (line 4)) (0.0.8)\n",
      "Requirement already satisfied: PyWavelets>=1.1.1 in c:\\users\\dell\\anaconda3\\lib\\site-packages (from scikit-image->-r requirements.txt (line 8)) (1.3.0)\n",
      "Requirement already satisfied: tifffile>=2019.7.26 in c:\\users\\dell\\anaconda3\\lib\\site-packages (from scikit-image->-r requirements.txt (line 8)) (2021.7.2)\n",
      "Requirement already satisfied: networkx>=2.2 in c:\\users\\dell\\anaconda3\\lib\\site-packages (from scikit-image->-r requirements.txt (line 8)) (2.7.1)\n",
      "Requirement already satisfied: imageio>=2.4.1 in c:\\users\\dell\\anaconda3\\lib\\site-packages (from scikit-image->-r requirements.txt (line 8)) (2.9.0)\n",
      "Requirement already satisfied: cycler>=0.10 in c:\\users\\dell\\anaconda3\\lib\\site-packages (from matplotlib->-r requirements.txt (line 9)) (0.11.0)\n",
      "Requirement already satisfied: fonttools>=4.22.0 in c:\\users\\dell\\anaconda3\\lib\\site-packages (from matplotlib->-r requirements.txt (line 9)) (4.25.0)\n",
      "Requirement already satisfied: kiwisolver>=1.0.1 in c:\\users\\dell\\anaconda3\\lib\\site-packages (from matplotlib->-r requirements.txt (line 9)) (1.3.2)\n",
      "Requirement already satisfied: python-dateutil>=2.7 in c:\\users\\dell\\anaconda3\\lib\\site-packages (from matplotlib->-r requirements.txt (line 9)) (2.8.2)\n",
      "Requirement already satisfied: pyparsing>=2.2.1 in c:\\users\\dell\\anaconda3\\lib\\site-packages (from matplotlib->-r requirements.txt (line 9)) (3.0.4)\n",
      "Requirement already satisfied: threadpoolctl>=3.1.0 in c:\\users\\dell\\anaconda3\\lib\\site-packages (from scikit-learn->-r requirements.txt (line 10)) (3.5.0)\n",
      "Requirement already satisfied: joblib>=1.2.0 in c:\\users\\dell\\anaconda3\\lib\\site-packages (from scikit-learn->-r requirements.txt (line 10)) (1.4.2)\n",
      "Requirement already satisfied: wheel<1.0,>=0.23.0 in c:\\users\\dell\\anaconda3\\lib\\site-packages (from astunparse>=1.6.0->tensorflow-intel==2.17.0->tensorflow->-r requirements.txt (line 3)) (0.37.1)\n",
      "Requirement already satisfied: idna<4,>=2.5 in c:\\users\\dell\\anaconda3\\lib\\site-packages (from requests<3,>=2.21.0->tensorflow-intel==2.17.0->tensorflow->-r requirements.txt (line 3)) (3.3)\n",
      "Requirement already satisfied: certifi>=2017.4.17 in c:\\users\\dell\\anaconda3\\lib\\site-packages (from requests<3,>=2.21.0->tensorflow-intel==2.17.0->tensorflow->-r requirements.txt (line 3)) (2021.10.8)\n",
      "Requirement already satisfied: urllib3<1.27,>=1.21.1 in c:\\users\\dell\\anaconda3\\lib\\site-packages (from requests<3,>=2.21.0->tensorflow-intel==2.17.0->tensorflow->-r requirements.txt (line 3)) (1.26.9)\n",
      "Requirement already satisfied: charset-normalizer~=2.0.0 in c:\\users\\dell\\anaconda3\\lib\\site-packages (from requests<3,>=2.21.0->tensorflow-intel==2.17.0->tensorflow->-r requirements.txt (line 3)) (2.0.4)\n",
      "Requirement already satisfied: markdown>=2.6.8 in c:\\users\\dell\\anaconda3\\lib\\site-packages (from tensorboard<2.18,>=2.17->tensorflow-intel==2.17.0->tensorflow->-r requirements.txt (line 3)) (3.3.4)\n",
      "Requirement already satisfied: werkzeug>=1.0.1 in c:\\users\\dell\\anaconda3\\lib\\site-packages (from tensorboard<2.18,>=2.17->tensorflow-intel==2.17.0->tensorflow->-r requirements.txt (line 3)) (2.0.3)\n",
      "Requirement already satisfied: tensorboard-data-server<0.8.0,>=0.7.0 in c:\\users\\dell\\anaconda3\\lib\\site-packages (from tensorboard<2.18,>=2.17->tensorflow-intel==2.17.0->tensorflow->-r requirements.txt (line 3)) (0.7.2)\n",
      "Requirement already satisfied: markdown-it-py>=2.2.0 in c:\\users\\dell\\anaconda3\\lib\\site-packages (from rich->keras->-r requirements.txt (line 4)) (3.0.0)\n",
      "Requirement already satisfied: pygments<3.0.0,>=2.13.0 in c:\\users\\dell\\anaconda3\\lib\\site-packages (from rich->keras->-r requirements.txt (line 4)) (2.18.0)\n",
      "Requirement already satisfied: mdurl~=0.1 in c:\\users\\dell\\anaconda3\\lib\\site-packages (from markdown-it-py>=2.2.0->rich->keras->-r requirements.txt (line 4)) (0.1.2)\n",
      "Note: you may need to restart the kernel to use updated packages.\n"
     ]
    }
   ],
   "source": [
    "pip install -r requirements.txt"
   ]
  },
  {
   "cell_type": "markdown",
   "id": "c3321dd6",
   "metadata": {},
   "source": [
    "# Lemon Quality Detection"
   ]
  },
  {
   "cell_type": "code",
   "execution_count": 2,
   "id": "3b81a674",
   "metadata": {},
   "outputs": [],
   "source": [
    "import numpy as np\n",
    "import tensorflow as tf\n",
    "from tensorflow import keras\n",
    "from sklearn.model_selection import KFold\n",
    "from sklearn.metrics import accuracy_score\n",
    "from PIL import Image\n",
    "import os\n",
    "from tensorflow.keras.preprocessing.image import ImageDataGenerator\n",
    "from tensorflow.keras.applications import VGG16\n",
    "from tensorflow.keras.layers import BatchNormalization, Dropout\n",
    "from tensorflow.keras.callbacks import EarlyStopping, LearningRateScheduler"
   ]
  },
  {
   "cell_type": "code",
   "execution_count": 3,
   "id": "60305617",
   "metadata": {},
   "outputs": [],
   "source": [
    "# Load the dataset\n",
    "dataset_dir = 'Dataset'"
   ]
  },
  {
   "cell_type": "code",
   "execution_count": 4,
   "id": "e49126a7",
   "metadata": {},
   "outputs": [],
   "source": [
    "# Define the classes and their corresponding folders\n",
    "classes = ['bad_quality', 'good_quality', 'empty_background']"
   ]
  },
  {
   "cell_type": "code",
   "execution_count": 5,
   "id": "3178a6ff",
   "metadata": {},
   "outputs": [],
   "source": [
    "# Load the images and labels\n",
    "images = []\n",
    "labels = []"
   ]
  },
  {
   "cell_type": "code",
   "execution_count": 6,
   "id": "0408dc81",
   "metadata": {},
   "outputs": [],
   "source": [
    "for class_idx, class_name in enumerate(classes):\n",
    "    class_dir = os.path.join(dataset_dir, class_name)\n",
    "    for filename in os.listdir(class_dir):\n",
    "        img = Image.open(os.path.join(class_dir, filename))\n",
    "        img = img.resize((224, 224))  # Resize images to 224x224\n",
    "        img = np.array(img) / 255.0  # Normalize pixel values to [0, 1]\n",
    "        images.append(img)\n",
    "        labels.append(class_idx)"
   ]
  },
  {
   "cell_type": "code",
   "execution_count": 7,
   "id": "3f3eb02d",
   "metadata": {},
   "outputs": [],
   "source": [
    "images = np.array(images)\n",
    "labels = np.array(labels)"
   ]
  },
  {
   "cell_type": "code",
   "execution_count": 8,
   "id": "c0bf6d42",
   "metadata": {},
   "outputs": [],
   "source": [
    "# Define the data augmentation strategy\n",
    "datagen = ImageDataGenerator(\n",
    "    rotation_range=30,\n",
    "    width_shift_range=0.2,\n",
    "    height_shift_range=0.2,\n",
    "    shear_range=30,\n",
    "    zoom_range=0.2,\n",
    "    horizontal_flip=True,\n",
    "    fill_mode='nearest'\n",
    ")"
   ]
  },
  {
   "cell_type": "code",
   "execution_count": 9,
   "id": "52907793",
   "metadata": {},
   "outputs": [],
   "source": [
    "# Apply data augmentation to the training images\n",
    "datagen.fit(images)"
   ]
  },
  {
   "cell_type": "code",
   "execution_count": 10,
   "id": "d1cd8344",
   "metadata": {},
   "outputs": [],
   "source": [
    "# Load the pre-trained VGG16 model\n",
    "base_model = VGG16(weights='imagenet', include_top=False, input_shape=(224, 224, 3))"
   ]
  },
  {
   "cell_type": "code",
   "execution_count": 11,
   "id": "6740e831",
   "metadata": {},
   "outputs": [],
   "source": [
    "# Freeze the layers of the pre-trained model\n",
    "base_model.trainable = False"
   ]
  },
  {
   "cell_type": "code",
   "execution_count": 12,
   "id": "182d4367",
   "metadata": {},
   "outputs": [],
   "source": [
    "# Add custom layers on top of the pre-trained model\n",
    "model = keras.Sequential([\n",
    "    base_model,\n",
    "    keras.layers.Flatten(),\n",
    "    BatchNormalization(),\n",
    "    keras.layers.Dense(128, activation='relu'),\n",
    "    Dropout(0.2),\n",
    "    keras.layers.Dense(len(classes), activation='softmax')\n",
    "])"
   ]
  },
  {
   "cell_type": "code",
   "execution_count": 13,
   "id": "cb5678dd",
   "metadata": {},
   "outputs": [],
   "source": [
    "# Compile the model\n",
    "model.compile(optimizer='adam', loss='sparse_categorical_crossentropy', metrics=['accuracy'])"
   ]
  },
  {
   "cell_type": "code",
   "execution_count": 14,
   "id": "dd985246",
   "metadata": {},
   "outputs": [],
   "source": [
    "# Define the early stopping callback\n",
    "early_stopping = EarlyStopping(monitor='val_loss', patience=5, min_delta=0.001)"
   ]
  },
  {
   "cell_type": "code",
   "execution_count": 15,
   "id": "b8dd85f0",
   "metadata": {},
   "outputs": [],
   "source": [
    "# Define the learning rate scheduler\n",
    "def schedule(epoch, lr):\n",
    "    if epoch < 5:\n",
    "        return 0.001\n",
    "    else:\n",
    "        return 0.0001"
   ]
  },
  {
   "cell_type": "code",
   "execution_count": null,
   "id": "b7042882",
   "metadata": {},
   "outputs": [],
   "source": [
    "# Train the model with early stopping and learning rate scheduler\n",
    "lr_schedule = tf.keras.callbacks.LearningRateScheduler(schedule)\n",
    "\n",
    "history = model.fit(\n",
    "    datagen.flow(images, labels, batch_size=16),\n",
    "    epochs=10,\n",
    "    validation_data=(images, labels),\n",
    "    callbacks=[early_stopping, lr_schedule]\n",
    ")"
   ]
  },
  {
   "cell_type": "code",
   "execution_count": null,
   "id": "688deaf7",
   "metadata": {},
   "outputs": [],
   "source": [
    "# Evaluate the model on the validation set\n",
    "val_loss, val_acc = model.evaluate(images, labels)\n",
    "print(f'Validation loss: {val_loss:.3f}')\n",
    "print(f'Validation accuracy: {val_acc:.3f}')"
   ]
  },
  {
   "cell_type": "code",
   "execution_count": null,
   "id": "2e9166c8",
   "metadata": {},
   "outputs": [],
   "source": [
    "# Define a generator that loads data in batches\n",
    "def data_generator(images, labels, indices, batch_size=32):\n",
    "    for start_idx in range(0, len(indices), batch_size):\n",
    "        batch_indices = indices[start_idx:start_idx + batch_size]\n",
    "        batch_images = images[batch_indices].astype(np.float32) / 255.0\n",
    "        batch_labels = labels[batch_indices]\n",
    "        yield batch_images, batch_labels\n",
    "\n",
    "# Use k-fold cross-validation to evaluate the model\n",
    "kf = KFold(n_splits=5, shuffle=True, random_state=42)\n",
    "scores = []\n",
    "\n",
    "for train_idx, val_idx in kf.split(images):\n",
    "    train_gen = data_generator(images, labels, train_idx, batch_size=16)\n",
    "    val_gen = data_generator(images, labels, val_idx, batch_size=32)\n",
    "\n",
    "    # Train the model on the current fold\n",
    "    model.fit(\n",
    "        train_gen,\n",
    "        steps_per_epoch=len(train_idx) // 32,\n",
    "        epochs=10,\n",
    "        validation_data=val_gen,\n",
    "        validation_steps=len(val_idx) // 32,\n",
    "        callbacks=[early_stopping, LearningRateScheduler(schedule)]\n",
    "    )\n",
    "    \n",
    "    # Evaluate the model on the current fold\n",
    "    val_images, val_labels = next(data_generator(images, labels, val_idx))\n",
    "    _, score = model.evaluate(val_images, val_labels)\n",
    "    scores.append(score)"
   ]
  },
  {
   "cell_type": "code",
   "execution_count": 37,
   "id": "d3b89f8e",
   "metadata": {},
   "outputs": [
    {
     "name": "stdout",
     "output_type": "stream",
     "text": [
      "Average accuracy across all folds: 0.976\n"
     ]
    }
   ],
   "source": [
    "# Print the average accuracy across all folds\n",
    "print(f'Average accuracy across all folds: {np.mean(scores):.3f}')"
   ]
  },
  {
   "cell_type": "code",
   "execution_count": 38,
   "id": "237f822a",
   "metadata": {},
   "outputs": [
    {
     "data": {
      "image/png": "[encoded data removed]",
      "text/plain": [
       "<Figure size 432x288 with 1 Axes>"
      ]
     },
     "metadata": {
      "needs_background": "light"
     },
     "output_type": "display_data"
    }
   ],
   "source": [
    "# Plot the training and validation accuracy and loss\n",
    "import matplotlib.pyplot as plt\n",
    "\n",
    "plt.plot(history.history['accuracy'], label='Training Accuracy')\n",
    "plt.plot(history.history['val_accuracy'], label='Validation Accuracy')\n",
    "plt.plot(history.history['loss'], label='Training Loss')\n",
    "plt.plot(history.history['val_loss'], label='Validation Loss')\n",
    "plt.legend()\n",
    "plt.show()"
   ]
  },
  {
   "cell_type": "code",
   "execution_count": 41,
   "id": "50a16396",
   "metadata": {},
   "outputs": [
    {
     "data": {
      "application/vnd.jupyter.widget-view+json": {
       "model_id": "3cbe4f58c4794838a69f9b85d6e38ae0",
       "version_major": 2,
       "version_minor": 0
      },
      "text/plain": [
       "FileUpload(value={}, accept='.jpg, .jpeg, .png', description='Upload')"
      ]
     },
     "metadata": {},
     "output_type": "display_data"
    },
    {
     "name": "stdout",
     "output_type": "stream",
     "text": [
      "\u001b[1m1/1\u001b[0m \u001b[32m━━━━━━━━━━━━━━━━━━━━\u001b[0m\u001b[37m\u001b[0m \u001b[1m1s\u001b[0m 1s/step\n",
      "The image quality is: Bad\n",
      "\u001b[1m1/1\u001b[0m \u001b[32m━━━━━━━━━━━━━━━━━━━━\u001b[0m\u001b[37m\u001b[0m \u001b[1m0s\u001b[0m 363ms/step\n",
      "The image quality is: Good\n",
      "\u001b[1m1/1\u001b[0m \u001b[32m━━━━━━━━━━━━━━━━━━━━\u001b[0m\u001b[37m\u001b[0m \u001b[1m0s\u001b[0m 434ms/step\n",
      "The image quality is: Neutral (Empty Background)\n"
     ]
    }
   ],
   "source": [
    "from ipywidgets import FileUpload\n",
    "from PIL import Image\n",
    "import numpy as np\n",
    "import io\n",
    "from IPython.display import display\n",
    "\n",
    "# Assuming the model has just been trained and is in memory\n",
    "# Use the trained model directly (assuming it's named 'model')\n",
    "\n",
    "# Define the classes\n",
    "classes = ['bad_quality', 'good_quality', 'empty_background']\n",
    "\n",
    "# Create a file upload widget and display it\n",
    "upload = FileUpload(accept='.jpg, .jpeg, .png', multiple=False)\n",
    "display(upload)\n",
    "\n",
    "# Function to load and process the uploaded image, then classify it\n",
    "def process_and_classify_image(change):\n",
    "    if upload.value:  # Check if a file is uploaded\n",
    "        uploaded_file = next(iter(upload.value.values()))['content']  # Get the uploaded file content\n",
    "        test_img = Image.open(io.BytesIO(uploaded_file))\n",
    "        test_img = test_img.resize((224, 224))  # Resize the image to 224x224\n",
    "        test_img = np.array(test_img) / 255.0  # Normalize pixel values to [0, 1]\n",
    "        test_img = np.expand_dims(test_img, axis=0)  # Add batch dimension for prediction\n",
    "\n",
    "        # Predict the class of the image\n",
    "        predictions = model.predict(test_img)\n",
    "        predicted_class = classes[np.argmax(predictions)]\n",
    "\n",
    "        # Print the corresponding human-readable label\n",
    "        if predicted_class == 'bad_quality':\n",
    "            print(\"The image quality is: Bad\")\n",
    "        elif predicted_class == 'good_quality':\n",
    "            print(\"The image quality is: Good\")\n",
    "        elif predicted_class == 'empty_background':\n",
    "            print(\"The image quality is: Neutral (Empty Background)\")\n",
    "    else:\n",
    "        print(\"No image uploaded!\")\n",
    "\n",
    "# Wait for an image to be uploaded and then process it\n",
    "upload.observe(process_and_classify_image, names='value')"
   ]
  },
  {
   "cell_type": "code",
   "execution_count": 42,
   "id": "7883f04b",
   "metadata": {},
   "outputs": [
    {
     "name": "stderr",
     "output_type": "stream",
     "text": [
      "WARNING:absl:You are saving your model as an HDF5 file via `model.save()` or `keras.saving.save_model(model)`. This file format is considered legacy. We recommend using instead the native Keras format, e.g. `model.save('my_model.keras')` or `keras.saving.save_model(model, 'my_model.keras')`. \n"
     ]
    }
   ],
   "source": [
    "# Save the model to a file\n",
    "model.save('newlemon.h5')"
   ]
  },
  {
   "cell_type": "code",
   "execution_count": null,
   "id": "4e0cd03b",
   "metadata": {},
   "outputs": [],
   "source": []
  }
 ],
 "metadata": {
  "kernelspec": {
   "display_name": "Python 3 (ipykernel)",
   "language": "python",
   "name": "python3"
  },
  "language_info": {
   "codemirror_mode": {
    "name": "ipython",
    "version": 3
   },
   "file_extension": ".py",
   "mimetype": "text/x-python",
   "name": "python",
   "nbconvert_exporter": "python",
   "pygments_lexer": "ipython3",
   "version": "3.9.12"
  }
 },
 "nbformat": 4,
 "nbformat_minor": 5
}
